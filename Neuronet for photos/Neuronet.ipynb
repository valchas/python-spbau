{
  "cells": [
    {
      "cell_type": "code",
      "source": [
        "import os\n",
        "import numpy as np"
      ],
      "metadata": {
        "id": "PRUj3__Ce10T"
      },
      "execution_count": 10,
      "outputs": []
    },
    {
      "cell_type": "code",
      "source": [
        "import tensorflow as tf\n",
        "import tensorflow\n",
        "from tensorflow.keras.models import Model\n",
        "from tensorflow.keras.layers import Dense, Input\n",
        "import math\n",
        "import logging"
      ],
      "metadata": {
        "id": "uPIIQDmge9fv"
      },
      "execution_count": 11,
      "outputs": []
    },
    {
      "cell_type": "code",
      "source": [
        "logging.getLogger('tensorflow').setLevel(logging.WARNING)\n",
        "print(\"TensorFlow v\", tf.version.VERSION)"
      ],
      "metadata": {
        "colab": {
          "base_uri": "https://localhost:8080/"
        },
        "id": "LOVuD5sUfApH",
        "outputId": "1b7c7f1d-91f4-4950-9eef-3580bf2bbb03"
      },
      "execution_count": 12,
      "outputs": [
        {
          "output_type": "stream",
          "name": "stdout",
          "text": [
            "TensorFlow v 2.8.2\n"
          ]
        }
      ]
    },
    {
      "cell_type": "markdown",
      "source": [
        "Задаем саму фигуру графиком ⤵"
      ],
      "metadata": {
        "id": "akojb3odxnG0"
      }
    },
    {
      "cell_type": "code",
      "source": [
        "np.random.seed(1)\n",
        "A = (np.random.random((2000, 2)) * 4.0 - 2.0).astype(np.float32)\n",
        "V = [np.float32(x**2 + (5*y/4 - math.sqrt(math.fabs(x)))**2 <=2.5) for (x , y) in A ]\n"
      ],
      "metadata": {
        "id": "CB1ieeZFfEBv"
      },
      "execution_count": 24,
      "outputs": []
    },
    {
      "cell_type": "code",
      "source": [
        "if len(tensorflow.test.gpu_device_name()):  \n",
        "    mode = 'GPU'\n",
        "else:\n",
        "    mode = 'CPU'\n",
        "print(\"Mode:\", mode)\n",
        "\n",
        "logging.getLogger('tensorflow').setLevel(logging.INFO)\n",
        "\n",
        "if mode == 'GPU':\n",
        "    strategy = tensorflow.distribute.MirroredStrategy(\n",
        "        devices=[tensorflow.test.gpu_device_name()]\n",
        "    )\n",
        "elif mode == 'TPU':\n",
        "    resolver = tf.distribute.cluster_resolver.TPUClusterResolver(tpu='grpc://' + os.environ['COLAB_TPU_ADDR'])\n",
        "    tf.config.experimental_connect_to_host(resolver.master())\n",
        "    tf.tpu.experimental.initialize_tpu_system(resolver)\n",
        "    strategy = tf.distribute.experimental.TPUStrategy(resolver)\n",
        "else: \n",
        "    strategy = tensorflow.distribute.MirroredStrategy(devices=['CPU'])\n",
        "\n",
        "\n",
        "logging.getLogger('tensorflow').setLevel(logging.WARNING)\n",
        "print(f\"Strategy is {strategy}.\")"
      ],
      "metadata": {
        "colab": {
          "base_uri": "https://localhost:8080/"
        },
        "id": "mJK3YPk2rFMi",
        "outputId": "7c442d0c-edd9-44ed-dc9a-53f765dfe941"
      },
      "execution_count": 25,
      "outputs": [
        {
          "output_type": "stream",
          "name": "stderr",
          "text": [
            "WARNING:tensorflow:There are non-GPU devices in `tf.distribute.Strategy`, not using nccl allreduce.\n",
            "INFO:tensorflow:Using MirroredStrategy with devices ('/job:localhost/replica:0/task:0/device:CPU:0',)\n"
          ]
        },
        {
          "output_type": "stream",
          "name": "stdout",
          "text": [
            "Mode: CPU\n",
            "Strategy is <tensorflow.python.distribute.mirrored_strategy.MirroredStrategy object at 0x7fdf4add6310>.\n"
          ]
        }
      ]
    },
    {
      "cell_type": "markdown",
      "source": [
        "Создаем саму сеть "
      ],
      "metadata": {
        "id": "HEDmw5PPyREe"
      }
    },
    {
      "cell_type": "code",
      "source": [
        "with strategy.scope() as scope:\n",
        "    model = tf.keras.Sequential([\n",
        "        Input(2),\n",
        "        Dense(18, activation='sigmoid', use_bias=True),\n",
        "        Dense(1, activation='sigmoid', use_bias=False)\n",
        "    ])\n",
        "\n",
        "    model.compile(\n",
        "        optimizer=tf.keras.optimizers.Adam(learning_rate=1e-3),\n",
        "        loss=tf.keras.losses.mean_squared_error,\n",
        "        metrics='accuracy'\n",
        "    )\n",
        "    print(\"Scope:\", scope)"
      ],
      "metadata": {
        "colab": {
          "base_uri": "https://localhost:8080/"
        },
        "id": "eTJwkPb1rcj9",
        "outputId": "89ab6be4-91cc-4aec-f27a-4dbb3f1c3bb2"
      },
      "execution_count": 26,
      "outputs": [
        {
          "output_type": "stream",
          "name": "stdout",
          "text": [
            "Scope: <tensorflow.python.distribute.mirrored_strategy.MirroredStrategy object at 0x7fdf4add6310>\n"
          ]
        }
      ]
    },
    {
      "cell_type": "markdown",
      "source": [
        "Обучаем ✨"
      ],
      "metadata": {
        "id": "gHzGJZX1yfSg"
      }
    },
    {
      "cell_type": "code",
      "source": [
        "dataset = tf.data.Dataset.from_tensor_slices((\n",
        "    tf.constant(A, dtype=tf.float32),\n",
        "    tf.constant(V, dtype=tf.float32)\n",
        ")).shuffle(len(A) * 2, reshuffle_each_iteration=True).batch(1000).repeat()\n",
        "\n",
        "\n",
        "if os.path.isfile(\"smart_colab_duckling.h5\"):\n",
        "    model.load_weights(\"smart_colab_duckling.h5\")\n",
        "    print(\"Сеть уже была обучена раньше!\")\n",
        "else:\n",
        "    print(\"Обучаем сеть\")\n",
        "    model.fit(dataset, epochs=50, steps_per_epoch=2000)"
      ],
      "metadata": {
        "colab": {
          "base_uri": "https://localhost:8080/"
        },
        "id": "OFACBwxUr_x1",
        "outputId": "c7a4240e-3bdf-451e-b89a-7bb4afd910e7"
      },
      "execution_count": 30,
      "outputs": [
        {
          "output_type": "stream",
          "name": "stdout",
          "text": [
            "Обучаем сеть\n",
            "Epoch 1/50\n",
            "2000/2000 [==============================] - 7s 4ms/step - loss: 0.0035 - accuracy: 0.9980\n",
            "Epoch 2/50\n",
            "2000/2000 [==============================] - 7s 4ms/step - loss: 0.0034 - accuracy: 0.9980\n",
            "Epoch 3/50\n",
            "2000/2000 [==============================] - 7s 3ms/step - loss: 0.0034 - accuracy: 0.9983\n",
            "Epoch 4/50\n",
            "2000/2000 [==============================] - 7s 4ms/step - loss: 0.0033 - accuracy: 0.9985\n",
            "Epoch 5/50\n",
            "2000/2000 [==============================] - 7s 4ms/step - loss: 0.0033 - accuracy: 0.9985\n",
            "Epoch 6/50\n",
            "2000/2000 [==============================] - 7s 3ms/step - loss: 0.0033 - accuracy: 0.9985\n",
            "Epoch 7/50\n",
            "2000/2000 [==============================] - 7s 3ms/step - loss: 0.0032 - accuracy: 0.9985\n",
            "Epoch 8/50\n",
            "2000/2000 [==============================] - 7s 3ms/step - loss: 0.0032 - accuracy: 0.9985\n",
            "Epoch 9/50\n",
            "2000/2000 [==============================] - 8s 4ms/step - loss: 0.0032 - accuracy: 0.9985\n",
            "Epoch 10/50\n",
            "2000/2000 [==============================] - 7s 3ms/step - loss: 0.0032 - accuracy: 0.9985\n",
            "Epoch 11/50\n",
            "2000/2000 [==============================] - 7s 3ms/step - loss: 0.0031 - accuracy: 0.9985\n",
            "Epoch 12/50\n",
            "2000/2000 [==============================] - 7s 3ms/step - loss: 0.0031 - accuracy: 0.9985\n",
            "Epoch 13/50\n",
            "2000/2000 [==============================] - 7s 3ms/step - loss: 0.0031 - accuracy: 0.9985\n",
            "Epoch 14/50\n",
            "2000/2000 [==============================] - 7s 4ms/step - loss: 0.0030 - accuracy: 0.9985\n",
            "Epoch 15/50\n",
            "2000/2000 [==============================] - 7s 3ms/step - loss: 0.0030 - accuracy: 0.9985\n",
            "Epoch 16/50\n",
            "2000/2000 [==============================] - 7s 3ms/step - loss: 0.0030 - accuracy: 0.9985\n",
            "Epoch 17/50\n",
            "2000/2000 [==============================] - 7s 3ms/step - loss: 0.0030 - accuracy: 0.9985\n",
            "Epoch 18/50\n",
            "2000/2000 [==============================] - 7s 3ms/step - loss: 0.0029 - accuracy: 0.9985\n",
            "Epoch 19/50\n",
            "2000/2000 [==============================] - 7s 3ms/step - loss: 0.0029 - accuracy: 0.9985\n",
            "Epoch 20/50\n",
            "2000/2000 [==============================] - 7s 3ms/step - loss: 0.0029 - accuracy: 0.9985\n",
            "Epoch 21/50\n",
            "2000/2000 [==============================] - 7s 3ms/step - loss: 0.0029 - accuracy: 0.9985\n",
            "Epoch 22/50\n",
            "2000/2000 [==============================] - 7s 3ms/step - loss: 0.0028 - accuracy: 0.9985\n",
            "Epoch 23/50\n",
            "2000/2000 [==============================] - 7s 3ms/step - loss: 0.0028 - accuracy: 0.9985\n",
            "Epoch 24/50\n",
            "2000/2000 [==============================] - 7s 3ms/step - loss: 0.0028 - accuracy: 0.9985\n",
            "Epoch 25/50\n",
            "2000/2000 [==============================] - 8s 4ms/step - loss: 0.0028 - accuracy: 0.9985\n",
            "Epoch 26/50\n",
            "2000/2000 [==============================] - 7s 3ms/step - loss: 0.0028 - accuracy: 0.9985\n",
            "Epoch 27/50\n",
            "2000/2000 [==============================] - 7s 3ms/step - loss: 0.0027 - accuracy: 0.9985\n",
            "Epoch 28/50\n",
            "2000/2000 [==============================] - 7s 3ms/step - loss: 0.0027 - accuracy: 0.9985\n",
            "Epoch 29/50\n",
            "2000/2000 [==============================] - 7s 3ms/step - loss: 0.0027 - accuracy: 0.9986\n",
            "Epoch 30/50\n",
            "2000/2000 [==============================] - 7s 3ms/step - loss: 0.0027 - accuracy: 0.9986\n",
            "Epoch 31/50\n",
            "2000/2000 [==============================] - 7s 3ms/step - loss: 0.0027 - accuracy: 0.9988\n",
            "Epoch 32/50\n",
            "2000/2000 [==============================] - 7s 3ms/step - loss: 0.0026 - accuracy: 0.9988\n",
            "Epoch 33/50\n",
            "2000/2000 [==============================] - 7s 3ms/step - loss: 0.0026 - accuracy: 0.9989\n",
            "Epoch 34/50\n",
            "2000/2000 [==============================] - 7s 3ms/step - loss: 0.0026 - accuracy: 0.9990\n",
            "Epoch 35/50\n",
            "2000/2000 [==============================] - 7s 3ms/step - loss: 0.0026 - accuracy: 0.9990\n",
            "Epoch 36/50\n",
            "2000/2000 [==============================] - 7s 3ms/step - loss: 0.0026 - accuracy: 0.9990\n",
            "Epoch 37/50\n",
            "2000/2000 [==============================] - 7s 3ms/step - loss: 0.0025 - accuracy: 0.9990\n",
            "Epoch 38/50\n",
            "2000/2000 [==============================] - 7s 4ms/step - loss: 0.0025 - accuracy: 0.9990\n",
            "Epoch 39/50\n",
            "2000/2000 [==============================] - 7s 3ms/step - loss: 0.0025 - accuracy: 0.9990\n",
            "Epoch 40/50\n",
            "2000/2000 [==============================] - 9s 4ms/step - loss: 0.0025 - accuracy: 0.9990\n",
            "Epoch 41/50\n",
            "2000/2000 [==============================] - 7s 4ms/step - loss: 0.0025 - accuracy: 0.9990\n",
            "Epoch 42/50\n",
            "2000/2000 [==============================] - 7s 4ms/step - loss: 0.0025 - accuracy: 0.9990\n",
            "Epoch 43/50\n",
            "2000/2000 [==============================] - 7s 4ms/step - loss: 0.0024 - accuracy: 0.9990\n",
            "Epoch 44/50\n",
            "2000/2000 [==============================] - 7s 4ms/step - loss: 0.0024 - accuracy: 0.9990\n",
            "Epoch 45/50\n",
            "2000/2000 [==============================] - 7s 3ms/step - loss: 0.0024 - accuracy: 0.9990\n",
            "Epoch 46/50\n",
            "2000/2000 [==============================] - 7s 4ms/step - loss: 0.0024 - accuracy: 0.9990\n",
            "Epoch 47/50\n",
            "2000/2000 [==============================] - 7s 4ms/step - loss: 0.0024 - accuracy: 0.9990\n",
            "Epoch 48/50\n",
            "2000/2000 [==============================] - 7s 4ms/step - loss: 0.0024 - accuracy: 0.9990\n",
            "Epoch 49/50\n",
            "2000/2000 [==============================] - 7s 4ms/step - loss: 0.0024 - accuracy: 0.9990\n",
            "Epoch 50/50\n",
            "2000/2000 [==============================] - 7s 4ms/step - loss: 0.0023 - accuracy: 0.9990\n"
          ]
        }
      ]
    },
    {
      "cell_type": "markdown",
      "source": [
        "Любуемся сердечком ☘"
      ],
      "metadata": {
        "id": "TcyF8SB7ymiE"
      }
    },
    {
      "cell_type": "code",
      "source": [
        "plt.axis('equal')\n",
        "\n",
        "c = np.r_[-2:2:0.15]\n",
        "\n",
        "XY = np.transpose([np.tile(c, len(c)), np.repeat(c, len(c))])\n",
        "\n",
        "Z = model.predict(XY)\n",
        "\n",
        "for (x, y), z in zip(XY, Z):\n",
        "  plt.scatter(x, y, c='black' if z[0] >= 0.5 else 'white')\n",
        "plt.show()"
      ],
      "metadata": {
        "colab": {
          "base_uri": "https://localhost:8080/",
          "height": 265
        },
        "id": "DN0zhSuKsi-r",
        "outputId": "428a656b-de18-41f4-eae9-a69f0ea262d5"
      },
      "execution_count": 31,
      "outputs": [
        {
          "output_type": "display_data",
          "data": {
            "text/plain": [
              "<Figure size 432x288 with 1 Axes>"
            ],
            "image/png": "[encoded data removed]"
          },
          "metadata": {
            "needs_background": "light"
          }
        }
      ]
    }
  ],
  "metadata": {
    "colab": {
      "collapsed_sections": [],
      "name": "Добро пожаловать в Colaboratory!",
      "toc_visible": true,
      "provenance": []
    },
    "kernelspec": {
      "display_name": "Python 3",
      "name": "python3"
    }
  },
  "nbformat": 4,
  "nbformat_minor": 0
}